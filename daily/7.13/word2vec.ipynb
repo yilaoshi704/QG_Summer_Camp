{
 "cells": [
  {
   "cell_type": "code",
   "execution_count": 1,
   "id": "initial_id",
   "metadata": {
    "collapsed": true,
    "ExecuteTime": {
     "end_time": "2024-07-13T08:30:32.767017800Z",
     "start_time": "2024-07-13T08:30:30.035762300Z"
    }
   },
   "outputs": [
    {
     "name": "stdout",
     "output_type": "stream",
     "text": [
      "tensor([[ 9.4564e-05,  3.0773e-03, -6.8126e-03, -1.3755e-03,  7.6686e-03,\n",
      "          7.3464e-03, -3.6733e-03,  2.6427e-03, -8.3171e-03,  6.2055e-03,\n",
      "         -4.6373e-03, -3.1641e-03,  9.3114e-03,  8.7339e-04,  7.4907e-03,\n",
      "         -6.0741e-03,  5.1605e-03,  9.9228e-03, -8.4574e-03, -5.1357e-03,\n",
      "         -7.0648e-03, -4.8627e-03, -3.7786e-03, -8.5362e-03,  7.9556e-03,\n",
      "         -4.8439e-03,  8.4236e-03,  5.2626e-03, -6.5500e-03,  3.9579e-03,\n",
      "          5.4701e-03, -7.4265e-03, -7.4057e-03, -2.4752e-03, -8.6257e-03,\n",
      "         -1.5816e-03, -4.0343e-04,  3.2997e-03,  1.4419e-03, -8.8142e-04,\n",
      "         -5.5941e-03,  1.7304e-03, -8.9737e-04,  6.7937e-03,  3.9736e-03,\n",
      "          4.5295e-03,  1.4343e-03, -2.6999e-03, -4.3668e-03, -1.0321e-03,\n",
      "          1.4370e-03, -2.6460e-03, -7.0738e-03, -7.8053e-03, -9.1218e-03,\n",
      "         -5.9352e-03, -1.8474e-03, -4.3239e-03, -6.4607e-03, -3.7173e-03,\n",
      "          4.2892e-03, -3.7390e-03,  8.3782e-03,  1.5340e-03, -7.2423e-03,\n",
      "          9.4338e-03,  7.6312e-03,  5.4933e-03, -6.8488e-03,  5.8227e-03,\n",
      "          4.0091e-03,  5.1854e-03,  4.2559e-03,  1.9398e-03, -3.1702e-03,\n",
      "          8.3538e-03,  9.6122e-03,  3.7926e-03, -2.8370e-03,  7.1275e-06,\n",
      "          1.2188e-03, -8.4583e-03, -8.2239e-03, -2.3102e-04,  1.2373e-03,\n",
      "         -5.7434e-03, -4.7253e-03, -7.3461e-03,  8.3286e-03,  1.2130e-04,\n",
      "         -4.5094e-03,  5.7017e-03,  9.1800e-03, -4.0999e-03,  7.9647e-03,\n",
      "          5.3754e-03,  5.8791e-03,  5.1259e-04,  8.2131e-03, -7.0190e-03]])\n"
     ]
    }
   ],
   "source": [
    "import gensim\n",
    "import torch\n",
    "import torch.nn as nn\n",
    "\n",
    "# 使用gensim训练Word2Vec模型\n",
    "sentences = [[\"hello\", \"world\"], [\"goodbye\", \"world\"]]\n",
    "model = gensim.models.Word2Vec(sentences, vector_size=100, window=5, min_count=1, workers=4)\n",
    "\n",
    "# 获取词汇表和嵌入矩阵\n",
    "vocab = model.wv.key_to_index\n",
    "embedding_matrix = model.wv.vectors\n",
    "\n",
    "# 将嵌入矩阵转换为PyTorch嵌入层\n",
    "embedding_layer = nn.Embedding.from_pretrained(torch.FloatTensor(embedding_matrix))\n",
    "\n",
    "# 示例：获取单词\"hello\"的嵌入\n",
    "word_idx = vocab[\"hello\"]\n",
    "word_embedding = embedding_layer(torch.tensor([word_idx]))\n",
    "print(word_embedding)\n"
   ]
  },
  {
   "cell_type": "code",
   "outputs": [],
   "source": [],
   "metadata": {
    "collapsed": false
   },
   "id": "bfdc0a51f2efdfa0"
  }
 ],
 "metadata": {
  "kernelspec": {
   "name": "python3",
   "language": "python",
   "display_name": "Python 3 (ipykernel)"
  },
  "language_info": {
   "codemirror_mode": {
    "name": "ipython",
    "version": 2
   },
   "file_extension": ".py",
   "mimetype": "text/x-python",
   "name": "python",
   "nbconvert_exporter": "python",
   "pygments_lexer": "ipython2",
   "version": "2.7.6"
  }
 },
 "nbformat": 4,
 "nbformat_minor": 5
}
