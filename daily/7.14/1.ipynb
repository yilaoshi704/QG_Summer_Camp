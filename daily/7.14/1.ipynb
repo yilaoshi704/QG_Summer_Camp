{
 "cells": [
  {
   "cell_type": "code",
   "outputs": [
    {
     "data": {
      "text/plain": "'import requests\\nquery = input(\"输入关键词\")\\nurl = f\\'https://www.sogou.com/web?query={query}\\'\\nheaders = {\\'User-Agent\\': \\'Mozilla/5.0 (Windows NT 10.0; Win64; x64) AppleWebKit/537.36 (KHTML, like Gecko) Chrome/126.0.0.0 Safari/537.36 Edg/126.0.0.0\\'}\\nres = requests.get(url,headers=headers)\\nprint(res)\\nprint(res.text)'"
     },
     "execution_count": 8,
     "metadata": {},
     "output_type": "execute_result"
    }
   ],
   "source": [
    "from urllib.request import urlopen\n",
    "url = \"http://www.baidu.com\"\n",
    "resq = urlopen(url)\n",
    "\n",
    "\n",
    "with open(\"baidu.html\",\"w\",encoding=\"utf-8\") as f:\n",
    "    f.write(resq.read().decode('utf-8'))\n",
    "\n",
    "resq.close()\n",
    "\"\"\"import requests\n",
    "query = input(\"输入关键词\")\n",
    "url = f'https://www.sogou.com/web?query={query}'\n",
    "headers = {'User-Agent': 'Mozilla/5.0 (Windows NT 10.0; Win64; x64) AppleWebKit/537.36 (KHTML, like Gecko) Chrome/126.0.0.0 Safari/537.36 Edg/126.0.0.0'}\n",
    "res = requests.get(url,headers=headers)\n",
    "print(res)\n",
    "print(res.text)\"\"\""
   ],
   "metadata": {
    "collapsed": false,
    "ExecuteTime": {
     "end_time": "2024-07-14T03:20:30.512216200Z",
     "start_time": "2024-07-14T03:20:30.351637600Z"
    }
   },
   "id": "a5812b08abaa236a",
   "execution_count": 8
  },
  {
   "cell_type": "code",
   "outputs": [],
   "source": [],
   "metadata": {
    "collapsed": false
   },
   "id": "937ac52585f9cd8b"
  }
 ],
 "metadata": {
  "kernelspec": {
   "name": "python3",
   "language": "python",
   "display_name": "Python 3 (ipykernel)"
  }
 },
 "nbformat": 4,
 "nbformat_minor": 5
}
