{
 "cells": [
  {
   "cell_type": "code",
   "execution_count": null,
   "id": "initial_id",
   "metadata": {
    "collapsed": true,
    "is_executing": true
   },
   "outputs": [],
   "source": [
    "import re\n",
    "import requests\n",
    "import csv\n",
    "start = input(\"请输入你想要的页面\")\n",
    "start = str(int(start)*25)\n",
    "url = f\"https://movie.douban.com/top250?start={start}&filter=\"\n",
    "headers = {\n",
    "    'User-Agent': \"Mozilla/5.0 (Windows NT 10.0; Win64; x64) AppleWebKit/537.36 (KHTML, like Gecko) Chrome/126.0.0.0 Safari/537.36 Edg/126.0.0.0\"\n",
    "}\n",
    "\n",
    "resq = requests.get(url=url,headers=headers)\n",
    "\n",
    "obj = re.compile(r'<li>.*?<span class=\"title\">(?P<name>.*?)</span>'\n",
    "                 r'.*?<br>(?P<year>.*?)&nbsp'\n",
    "                 r'.*?<span class=\"rating_num\" property=\"v:average\">(?P<score>.*?)</span>'\n",
    "                 r'.*?<span>(?P<views>.*?)人评价',re.S)\n",
    "# 打开文件\n",
    "f = open(\"video.csv\", mode=\"a+\",encoding=\"utf-8\")\n",
    "#创建写入内容对象\n",
    "csvwiter = csv.writer(f)\n",
    "toplist = obj.finditer(resq.text)\n",
    "for i in toplist:\n",
    "    dic = i.groupdict()\n",
    "    dic['year'] = dic['year'].strip()#为year单独设置跳过空格\n",
    "    csvwiter.writerow(dic.values())#写入内容为dic里的数据\n",
    "    print(i.group(\"name\"),i.group(\"year\").strip(),i.group(\"score\"),i.group(\"views\"))\n",
    "f.close()\n",
    "resq.close()"
   ]
  },
  {
   "cell_type": "code",
   "outputs": [],
   "source": [],
   "metadata": {
    "collapsed": false
   },
   "id": "914e052cc0e50a23"
  }
 ],
 "metadata": {
  "kernelspec": {
   "display_name": "Python 3",
   "language": "python",
   "name": "python3"
  },
  "language_info": {
   "codemirror_mode": {
    "name": "ipython",
    "version": 2
   },
   "file_extension": ".py",
   "mimetype": "text/x-python",
   "name": "python",
   "nbconvert_exporter": "python",
   "pygments_lexer": "ipython2",
   "version": "2.7.6"
  }
 },
 "nbformat": 4,
 "nbformat_minor": 5
}
