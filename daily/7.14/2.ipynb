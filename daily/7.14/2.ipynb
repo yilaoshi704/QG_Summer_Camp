{
 "cells": [
  {
   "cell_type": "code",
   "execution_count": 11,
   "id": "initial_id",
   "metadata": {
    "collapsed": true,
    "ExecuteTime": {
     "end_time": "2024-07-14T03:22:31.257259200Z",
     "start_time": "2024-07-14T03:22:31.248985600Z"
    }
   },
   "outputs": [
    {
     "data": {
      "text/plain": "'param = {\\n    \"type\": \"24\",\\n    \"interval_id\": \"100:90\",\\n    \"action\": \"\",\\n    \"start\": \"0\",\\n    \"limit\": \"20\",\\n}\\nheaders = {\\n    \"User-Agent\":\"Mozilla/5.0 (Windows NT 10.0; Win64; x64) AppleWebKit/537.36 (KHTML, like Gecko) Chrome/126.0.0.0 Safari/537.36 Edg/126.0.0.0\"\\n}\\nurl = \"https://movie.douban.com/j/chart/top_list\"\\n\\n# 设置循环次数，例如获取前100条数据\\ntotal_data = []\\nnum_iterations = 2\\n\\nfor i in range(num_iterations):\\n    param[\"start\"] = str(i * 20)\\n    r = requests.get(url, params=param, headers=headers)\\n    data = r.json()\\n    total_data.extend(data)\\n    print(f\"Iteration {i+1}: Retrieved {len(data)} items\")\\n    r.close()\\n\\n\\nprint(f\"Total items retrieved: {len(total_data)}\")\\nprint(total_data)'"
     },
     "execution_count": 11,
     "metadata": {},
     "output_type": "execute_result"
    }
   ],
   "source": [
    "import requests\n",
    "\"\"\"url = \"https://fanyi.baidu.com/sug\"\n",
    "temp = input(\"输入你想翻译的英文单词\")\n",
    "data = {\n",
    "    \"kw\": temp\n",
    "}\n",
    "r = requests.post(url, data=data)\n",
    "print(r.json())\"\"\"\n",
    "\n",
    "\n",
    "\n",
    "\n"
   ]
  },
  {
   "cell_type": "code",
   "outputs": [],
   "source": [
    "\"\"\"param = {\n",
    "    \"type\": \"24\",\n",
    "    \"interval_id\": \"100:90\",\n",
    "    \"action\": \"\",\n",
    "    \"start\": \"0\",\n",
    "    \"limit\": \"20\",\n",
    "}\n",
    "headers = {\n",
    "    \"User-Agent\":\"Mozilla/5.0 (Windows NT 10.0; Win64; x64) AppleWebKit/537.36 (KHTML, like Gecko) Chrome/126.0.0.0 Safari/537.36 Edg/126.0.0.0\"\n",
    "}\n",
    "url = \"https://movie.douban.com/j/chart/top_list\"\n",
    "\n",
    "# 设置循环次数，例如获取前100条数据\n",
    "total_data = []\n",
    "num_iterations = 2\n",
    "\n",
    "for i in range(num_iterations):\n",
    "    param[\"start\"] = str(i * 20)\n",
    "    r = requests.get(url, params=param, headers=headers)\n",
    "    data = r.json()\n",
    "    total_data.extend(data)\n",
    "    print(f\"Iteration {i+1}: Retrieved {len(data)} items\")\n",
    "    r.close()\n",
    "\n",
    "\n",
    "print(f\"Total items retrieved: {len(total_data)}\")\n",
    "print(total_data)\"\"\""
   ],
   "metadata": {
    "collapsed": false
   },
   "id": "aa42bb9c26f75e7f"
  },
  {
   "cell_type": "code",
   "outputs": [
    {
     "name": "stdout",
     "output_type": "stream",
     "text": [
      "114514\n",
      "985\n",
      "211\n"
     ]
    }
   ],
   "source": [
    "import re\n",
    "\"\"\"# lst = re.findall(r\"\\d+\", \"恶臭114514，上不了985和211\")\n",
    "lst = re.finditer(r\"\\d+\", \"恶臭114514，上不了985和211\") # 计入迭代器\n",
    "for it in lst: \n",
    "    print(it.group())\n",
    "    \n",
    "s = re.search(r\"\\d+\", \"恶臭114514，上不了985和211\") # 找到就返回\n",
    "print(s.group()) # match从头找\"\"\"\n",
    "\n",
    "# 正则预加载\n",
    "obj = re.compile(r\"\\d+\")\n",
    "res = obj.finditer( \"恶臭114514，上不了985和211\")\n",
    "for i in res:\n",
    "    print(i.group())"
   ],
   "metadata": {
    "collapsed": false,
    "ExecuteTime": {
     "end_time": "2024-07-14T07:29:58.571076600Z",
     "start_time": "2024-07-14T07:29:58.563728300Z"
    }
   },
   "id": "c0c5280870d062da",
   "execution_count": 13
  },
  {
   "cell_type": "code",
   "outputs": [],
   "source": [
    "\""
   ],
   "metadata": {
    "collapsed": false
   },
   "id": "59c044345db16309"
  }
 ],
 "metadata": {
  "kernelspec": {
   "display_name": "Python 3",
   "language": "python",
   "name": "python3"
  },
  "language_info": {
   "codemirror_mode": {
    "name": "ipython",
    "version": 2
   },
   "file_extension": ".py",
   "mimetype": "text/x-python",
   "name": "python",
   "nbconvert_exporter": "python",
   "pygments_lexer": "ipython2",
   "version": "2.7.6"
  }
 },
 "nbformat": 4,
 "nbformat_minor": 5
}
