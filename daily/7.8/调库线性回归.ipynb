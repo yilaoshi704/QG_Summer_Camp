{
 "cells": [
  {
   "cell_type": "code",
   "execution_count": 26,
   "id": "ca239326",
   "metadata": {},
   "outputs": [
    {
     "name": "stdout",
     "output_type": "stream",
     "text": [
      "loss is 16.1089\n",
      "loss is 0.2997\n",
      "loss is 0.0065\n",
      "loss is 0.0002\n",
      "loss is 0.0000\n",
      "loss is 0.0000\n",
      "loss is 0.0000\n",
      "loss is 0.0000\n",
      "loss is 0.0000\n",
      "loss is 0.0000\n",
      "Parameter containing:\n",
      "tensor([[3.0000]], device='cuda:0', requires_grad=True)\n",
      "Parameter containing:\n",
      "tensor([0.8000], device='cuda:0', requires_grad=True)\n"
     ]
    },
    {
     "data": {
      "image/png": "[encoded data removed]",
      "text/plain": [
       "<Figure size 640x480 with 1 Axes>"
      ]
     },
     "metadata": {},
     "output_type": "display_data"
    }
   ],
   "source": [
    "import torch\n",
    "import torch.nn as nn\n",
    "import torch.optim as optim\n",
    "import matplotlib.pyplot as plt\n",
    "\n",
    "device = torch.device(\"cuda\" if torch.cuda.is_available() else \"cpu\")\n",
    "\n",
    "class Lr(nn.Module):\n",
    "    def __init__(self):\n",
    "        super(Lr, self).__init__()\n",
    "        self.linear = nn.Linear(1, 1)\n",
    "        \n",
    "    def forward(self, x):\n",
    "        out = self.linear(x)\n",
    "        return out \n",
    "\n",
    "model = Lr().to(device)\n",
    "criterion = nn.MSELoss()\n",
    "optimizer = optim.SGD(model.parameters(), lr=0.01)\n",
    "\n",
    "x = torch.randn([500, 1], requires_grad=False).to(device)\n",
    "y = x * 3 + 0.8\n",
    "\n",
    "num = 1000\n",
    "losses = []\n",
    "for n in range(num):\n",
    "    output = model(x)\n",
    "    loss = criterion(output, y)\n",
    "    optimizer.zero_grad()\n",
    "    loss.backward()\n",
    "    optimizer.step()\n",
    "    losses.append(loss.item())\n",
    "    if (n % 100) == 0:\n",
    "        print(f\"loss is {loss.item():.4f}\")\n",
    "\n",
    "for p in model.parameters():\n",
    "    print(p)\n",
    "# 绘制损失变化曲线\n",
    "plt.plot(losses)\n",
    "plt.xlabel('n')\n",
    "plt.ylabel('Loss')\n",
    "plt.title('Loss over n')\n",
    "plt.show()"
   ]
  },
  {
   "cell_type": "code",
   "execution_count": 25,
   "id": "78768e86",
   "metadata": {},
   "outputs": [
    {
     "name": "stdout",
     "output_type": "stream",
     "text": [
      "Evaluation Loss: 0.0000\n"
     ]
    }
   ],
   "source": [
    "model.eval()  # 设置模型为评估模式\n",
    "with torch.no_grad():  # 在评估模式下，不需要计算梯度\n",
    "    output = model(x)\n",
    "    eval_loss = criterion(output, y)\n",
    "    print(f\"Evaluation Loss: {eval_loss.item():.4f}\")"
   ]
  },
  {
   "cell_type": "code",
   "execution_count": 27,
   "id": "0ca0f7a0",
   "metadata": {},
   "outputs": [],
   "source": []
  }
 ],
 "metadata": {
  "kernelspec": {
   "display_name": "pytorch",
   "language": "python",
   "name": "pytorch"
  },
  "language_info": {
   "codemirror_mode": {
    "name": "ipython",
    "version": 3
   },
   "file_extension": ".py",
   "mimetype": "text/x-python",
   "name": "python",
   "nbconvert_exporter": "python",
   "pygments_lexer": "ipython3",
   "version": "3.11.8"
  }
 },
 "nbformat": 4,
 "nbformat_minor": 5
}
